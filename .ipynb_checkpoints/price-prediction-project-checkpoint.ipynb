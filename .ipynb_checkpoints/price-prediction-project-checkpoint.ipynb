{
 "cells": [
  {
   "cell_type": "markdown",
   "metadata": {
    "_cell_guid": "b1076dfc-b9ad-4769-8c92-a6c4dae69d19",
    "_uuid": "8f2839f25d086af736a60e9eeb907d3b93b6e0e5"
   },
   "source": [
    "# Libraries that I'll be used"
   ]
  },
  {
   "cell_type": "code",
   "execution_count": 1,
   "metadata": {
    "execution": {
     "iopub.execute_input": "2023-04-15T20:11:37.292489Z",
     "iopub.status.busy": "2023-04-15T20:11:37.292067Z",
     "iopub.status.idle": "2023-04-15T20:11:37.299667Z",
     "shell.execute_reply": "2023-04-15T20:11:37.298410Z",
     "shell.execute_reply.started": "2023-04-15T20:11:37.292452Z"
    }
   },
   "outputs": [],
   "source": [
    "import pandas as pd\n",
    "import numpy as np\n",
    "from matplotlib import pyplot as plt\n",
    "\n",
    "from sklearn.model_selection import train_test_split\n",
    "from sklearn.model_selection import GridSearchCV\n",
    "from sklearn.linear_model import LinearRegression\n",
    "from sklearn.linear_model import Lasso\n",
    "from sklearn.ensemble import RandomForestRegressor\n",
    "from sklearn.metrics import mean_squared_error\n",
    "from xgboost import XGBRegressor\n",
    " \n",
    "\n",
    "pd.set_option('display.max_columns', None)\n"
   ]
  },
  {
   "cell_type": "markdown",
   "metadata": {},
   "source": [
    "# Overviwing the data"
   ]
  },
  {
   "cell_type": "code",
   "execution_count": 2,
   "metadata": {
    "execution": {
     "iopub.execute_input": "2023-04-15T19:49:04.102541Z",
     "iopub.status.busy": "2023-04-15T19:49:04.102102Z",
     "iopub.status.idle": "2023-04-15T19:49:04.161408Z",
     "shell.execute_reply": "2023-04-15T19:49:04.160007Z",
     "shell.execute_reply.started": "2023-04-15T19:49:04.102505Z"
    }
   },
   "outputs": [
    {
     "ename": "FileNotFoundError",
     "evalue": "[Errno 2] No such file or directory: '/kaggle/input/bengaluru-house-price-data/Bengaluru_House_Data.csv'",
     "output_type": "error",
     "traceback": [
      "\u001b[0;31m---------------------------------------------------------------------------\u001b[0m",
      "\u001b[0;31mFileNotFoundError\u001b[0m                         Traceback (most recent call last)",
      "Cell \u001b[0;32mIn [2], line 1\u001b[0m\n\u001b[0;32m----> 1\u001b[0m data \u001b[38;5;241m=\u001b[39m \u001b[43mpd\u001b[49m\u001b[38;5;241;43m.\u001b[39;49m\u001b[43mread_csv\u001b[49m\u001b[43m(\u001b[49m\u001b[38;5;124;43m'\u001b[39;49m\u001b[38;5;124;43m/kaggle/input/bengaluru-house-price-data/Bengaluru_House_Data.csv\u001b[39;49m\u001b[38;5;124;43m'\u001b[39;49m\u001b[43m)\u001b[49m\n\u001b[1;32m      2\u001b[0m data\n",
      "File \u001b[0;32m~/.local/lib/python3.10/site-packages/pandas/util/_decorators.py:211\u001b[0m, in \u001b[0;36mdeprecate_kwarg.<locals>._deprecate_kwarg.<locals>.wrapper\u001b[0;34m(*args, **kwargs)\u001b[0m\n\u001b[1;32m    209\u001b[0m     \u001b[38;5;28;01melse\u001b[39;00m:\n\u001b[1;32m    210\u001b[0m         kwargs[new_arg_name] \u001b[38;5;241m=\u001b[39m new_arg_value\n\u001b[0;32m--> 211\u001b[0m \u001b[38;5;28;01mreturn\u001b[39;00m \u001b[43mfunc\u001b[49m\u001b[43m(\u001b[49m\u001b[38;5;241;43m*\u001b[39;49m\u001b[43margs\u001b[49m\u001b[43m,\u001b[49m\u001b[43m \u001b[49m\u001b[38;5;241;43m*\u001b[39;49m\u001b[38;5;241;43m*\u001b[39;49m\u001b[43mkwargs\u001b[49m\u001b[43m)\u001b[49m\n",
      "File \u001b[0;32m~/.local/lib/python3.10/site-packages/pandas/util/_decorators.py:331\u001b[0m, in \u001b[0;36mdeprecate_nonkeyword_arguments.<locals>.decorate.<locals>.wrapper\u001b[0;34m(*args, **kwargs)\u001b[0m\n\u001b[1;32m    325\u001b[0m \u001b[38;5;28;01mif\u001b[39;00m \u001b[38;5;28mlen\u001b[39m(args) \u001b[38;5;241m>\u001b[39m num_allow_args:\n\u001b[1;32m    326\u001b[0m     warnings\u001b[38;5;241m.\u001b[39mwarn(\n\u001b[1;32m    327\u001b[0m         msg\u001b[38;5;241m.\u001b[39mformat(arguments\u001b[38;5;241m=\u001b[39m_format_argument_list(allow_args)),\n\u001b[1;32m    328\u001b[0m         \u001b[38;5;167;01mFutureWarning\u001b[39;00m,\n\u001b[1;32m    329\u001b[0m         stacklevel\u001b[38;5;241m=\u001b[39mfind_stack_level(),\n\u001b[1;32m    330\u001b[0m     )\n\u001b[0;32m--> 331\u001b[0m \u001b[38;5;28;01mreturn\u001b[39;00m \u001b[43mfunc\u001b[49m\u001b[43m(\u001b[49m\u001b[38;5;241;43m*\u001b[39;49m\u001b[43margs\u001b[49m\u001b[43m,\u001b[49m\u001b[43m \u001b[49m\u001b[38;5;241;43m*\u001b[39;49m\u001b[38;5;241;43m*\u001b[39;49m\u001b[43mkwargs\u001b[49m\u001b[43m)\u001b[49m\n",
      "File \u001b[0;32m~/.local/lib/python3.10/site-packages/pandas/io/parsers/readers.py:950\u001b[0m, in \u001b[0;36mread_csv\u001b[0;34m(filepath_or_buffer, sep, delimiter, header, names, index_col, usecols, squeeze, prefix, mangle_dupe_cols, dtype, engine, converters, true_values, false_values, skipinitialspace, skiprows, skipfooter, nrows, na_values, keep_default_na, na_filter, verbose, skip_blank_lines, parse_dates, infer_datetime_format, keep_date_col, date_parser, dayfirst, cache_dates, iterator, chunksize, compression, thousands, decimal, lineterminator, quotechar, quoting, doublequote, escapechar, comment, encoding, encoding_errors, dialect, error_bad_lines, warn_bad_lines, on_bad_lines, delim_whitespace, low_memory, memory_map, float_precision, storage_options)\u001b[0m\n\u001b[1;32m    935\u001b[0m kwds_defaults \u001b[38;5;241m=\u001b[39m _refine_defaults_read(\n\u001b[1;32m    936\u001b[0m     dialect,\n\u001b[1;32m    937\u001b[0m     delimiter,\n\u001b[0;32m   (...)\u001b[0m\n\u001b[1;32m    946\u001b[0m     defaults\u001b[38;5;241m=\u001b[39m{\u001b[38;5;124m\"\u001b[39m\u001b[38;5;124mdelimiter\u001b[39m\u001b[38;5;124m\"\u001b[39m: \u001b[38;5;124m\"\u001b[39m\u001b[38;5;124m,\u001b[39m\u001b[38;5;124m\"\u001b[39m},\n\u001b[1;32m    947\u001b[0m )\n\u001b[1;32m    948\u001b[0m kwds\u001b[38;5;241m.\u001b[39mupdate(kwds_defaults)\n\u001b[0;32m--> 950\u001b[0m \u001b[38;5;28;01mreturn\u001b[39;00m \u001b[43m_read\u001b[49m\u001b[43m(\u001b[49m\u001b[43mfilepath_or_buffer\u001b[49m\u001b[43m,\u001b[49m\u001b[43m \u001b[49m\u001b[43mkwds\u001b[49m\u001b[43m)\u001b[49m\n",
      "File \u001b[0;32m~/.local/lib/python3.10/site-packages/pandas/io/parsers/readers.py:605\u001b[0m, in \u001b[0;36m_read\u001b[0;34m(filepath_or_buffer, kwds)\u001b[0m\n\u001b[1;32m    602\u001b[0m _validate_names(kwds\u001b[38;5;241m.\u001b[39mget(\u001b[38;5;124m\"\u001b[39m\u001b[38;5;124mnames\u001b[39m\u001b[38;5;124m\"\u001b[39m, \u001b[38;5;28;01mNone\u001b[39;00m))\n\u001b[1;32m    604\u001b[0m \u001b[38;5;66;03m# Create the parser.\u001b[39;00m\n\u001b[0;32m--> 605\u001b[0m parser \u001b[38;5;241m=\u001b[39m \u001b[43mTextFileReader\u001b[49m\u001b[43m(\u001b[49m\u001b[43mfilepath_or_buffer\u001b[49m\u001b[43m,\u001b[49m\u001b[43m \u001b[49m\u001b[38;5;241;43m*\u001b[39;49m\u001b[38;5;241;43m*\u001b[39;49m\u001b[43mkwds\u001b[49m\u001b[43m)\u001b[49m\n\u001b[1;32m    607\u001b[0m \u001b[38;5;28;01mif\u001b[39;00m chunksize \u001b[38;5;129;01mor\u001b[39;00m iterator:\n\u001b[1;32m    608\u001b[0m     \u001b[38;5;28;01mreturn\u001b[39;00m parser\n",
      "File \u001b[0;32m~/.local/lib/python3.10/site-packages/pandas/io/parsers/readers.py:1442\u001b[0m, in \u001b[0;36mTextFileReader.__init__\u001b[0;34m(self, f, engine, **kwds)\u001b[0m\n\u001b[1;32m   1439\u001b[0m     \u001b[38;5;28mself\u001b[39m\u001b[38;5;241m.\u001b[39moptions[\u001b[38;5;124m\"\u001b[39m\u001b[38;5;124mhas_index_names\u001b[39m\u001b[38;5;124m\"\u001b[39m] \u001b[38;5;241m=\u001b[39m kwds[\u001b[38;5;124m\"\u001b[39m\u001b[38;5;124mhas_index_names\u001b[39m\u001b[38;5;124m\"\u001b[39m]\n\u001b[1;32m   1441\u001b[0m \u001b[38;5;28mself\u001b[39m\u001b[38;5;241m.\u001b[39mhandles: IOHandles \u001b[38;5;241m|\u001b[39m \u001b[38;5;28;01mNone\u001b[39;00m \u001b[38;5;241m=\u001b[39m \u001b[38;5;28;01mNone\u001b[39;00m\n\u001b[0;32m-> 1442\u001b[0m \u001b[38;5;28mself\u001b[39m\u001b[38;5;241m.\u001b[39m_engine \u001b[38;5;241m=\u001b[39m \u001b[38;5;28;43mself\u001b[39;49m\u001b[38;5;241;43m.\u001b[39;49m\u001b[43m_make_engine\u001b[49m\u001b[43m(\u001b[49m\u001b[43mf\u001b[49m\u001b[43m,\u001b[49m\u001b[43m \u001b[49m\u001b[38;5;28;43mself\u001b[39;49m\u001b[38;5;241;43m.\u001b[39;49m\u001b[43mengine\u001b[49m\u001b[43m)\u001b[49m\n",
      "File \u001b[0;32m~/.local/lib/python3.10/site-packages/pandas/io/parsers/readers.py:1735\u001b[0m, in \u001b[0;36mTextFileReader._make_engine\u001b[0;34m(self, f, engine)\u001b[0m\n\u001b[1;32m   1733\u001b[0m     \u001b[38;5;28;01mif\u001b[39;00m \u001b[38;5;124m\"\u001b[39m\u001b[38;5;124mb\u001b[39m\u001b[38;5;124m\"\u001b[39m \u001b[38;5;129;01mnot\u001b[39;00m \u001b[38;5;129;01min\u001b[39;00m mode:\n\u001b[1;32m   1734\u001b[0m         mode \u001b[38;5;241m+\u001b[39m\u001b[38;5;241m=\u001b[39m \u001b[38;5;124m\"\u001b[39m\u001b[38;5;124mb\u001b[39m\u001b[38;5;124m\"\u001b[39m\n\u001b[0;32m-> 1735\u001b[0m \u001b[38;5;28mself\u001b[39m\u001b[38;5;241m.\u001b[39mhandles \u001b[38;5;241m=\u001b[39m \u001b[43mget_handle\u001b[49m\u001b[43m(\u001b[49m\n\u001b[1;32m   1736\u001b[0m \u001b[43m    \u001b[49m\u001b[43mf\u001b[49m\u001b[43m,\u001b[49m\n\u001b[1;32m   1737\u001b[0m \u001b[43m    \u001b[49m\u001b[43mmode\u001b[49m\u001b[43m,\u001b[49m\n\u001b[1;32m   1738\u001b[0m \u001b[43m    \u001b[49m\u001b[43mencoding\u001b[49m\u001b[38;5;241;43m=\u001b[39;49m\u001b[38;5;28;43mself\u001b[39;49m\u001b[38;5;241;43m.\u001b[39;49m\u001b[43moptions\u001b[49m\u001b[38;5;241;43m.\u001b[39;49m\u001b[43mget\u001b[49m\u001b[43m(\u001b[49m\u001b[38;5;124;43m\"\u001b[39;49m\u001b[38;5;124;43mencoding\u001b[39;49m\u001b[38;5;124;43m\"\u001b[39;49m\u001b[43m,\u001b[49m\u001b[43m \u001b[49m\u001b[38;5;28;43;01mNone\u001b[39;49;00m\u001b[43m)\u001b[49m\u001b[43m,\u001b[49m\n\u001b[1;32m   1739\u001b[0m \u001b[43m    \u001b[49m\u001b[43mcompression\u001b[49m\u001b[38;5;241;43m=\u001b[39;49m\u001b[38;5;28;43mself\u001b[39;49m\u001b[38;5;241;43m.\u001b[39;49m\u001b[43moptions\u001b[49m\u001b[38;5;241;43m.\u001b[39;49m\u001b[43mget\u001b[49m\u001b[43m(\u001b[49m\u001b[38;5;124;43m\"\u001b[39;49m\u001b[38;5;124;43mcompression\u001b[39;49m\u001b[38;5;124;43m\"\u001b[39;49m\u001b[43m,\u001b[49m\u001b[43m \u001b[49m\u001b[38;5;28;43;01mNone\u001b[39;49;00m\u001b[43m)\u001b[49m\u001b[43m,\u001b[49m\n\u001b[1;32m   1740\u001b[0m \u001b[43m    \u001b[49m\u001b[43mmemory_map\u001b[49m\u001b[38;5;241;43m=\u001b[39;49m\u001b[38;5;28;43mself\u001b[39;49m\u001b[38;5;241;43m.\u001b[39;49m\u001b[43moptions\u001b[49m\u001b[38;5;241;43m.\u001b[39;49m\u001b[43mget\u001b[49m\u001b[43m(\u001b[49m\u001b[38;5;124;43m\"\u001b[39;49m\u001b[38;5;124;43mmemory_map\u001b[39;49m\u001b[38;5;124;43m\"\u001b[39;49m\u001b[43m,\u001b[49m\u001b[43m \u001b[49m\u001b[38;5;28;43;01mFalse\u001b[39;49;00m\u001b[43m)\u001b[49m\u001b[43m,\u001b[49m\n\u001b[1;32m   1741\u001b[0m \u001b[43m    \u001b[49m\u001b[43mis_text\u001b[49m\u001b[38;5;241;43m=\u001b[39;49m\u001b[43mis_text\u001b[49m\u001b[43m,\u001b[49m\n\u001b[1;32m   1742\u001b[0m \u001b[43m    \u001b[49m\u001b[43merrors\u001b[49m\u001b[38;5;241;43m=\u001b[39;49m\u001b[38;5;28;43mself\u001b[39;49m\u001b[38;5;241;43m.\u001b[39;49m\u001b[43moptions\u001b[49m\u001b[38;5;241;43m.\u001b[39;49m\u001b[43mget\u001b[49m\u001b[43m(\u001b[49m\u001b[38;5;124;43m\"\u001b[39;49m\u001b[38;5;124;43mencoding_errors\u001b[39;49m\u001b[38;5;124;43m\"\u001b[39;49m\u001b[43m,\u001b[49m\u001b[43m \u001b[49m\u001b[38;5;124;43m\"\u001b[39;49m\u001b[38;5;124;43mstrict\u001b[39;49m\u001b[38;5;124;43m\"\u001b[39;49m\u001b[43m)\u001b[49m\u001b[43m,\u001b[49m\n\u001b[1;32m   1743\u001b[0m \u001b[43m    \u001b[49m\u001b[43mstorage_options\u001b[49m\u001b[38;5;241;43m=\u001b[39;49m\u001b[38;5;28;43mself\u001b[39;49m\u001b[38;5;241;43m.\u001b[39;49m\u001b[43moptions\u001b[49m\u001b[38;5;241;43m.\u001b[39;49m\u001b[43mget\u001b[49m\u001b[43m(\u001b[49m\u001b[38;5;124;43m\"\u001b[39;49m\u001b[38;5;124;43mstorage_options\u001b[39;49m\u001b[38;5;124;43m\"\u001b[39;49m\u001b[43m,\u001b[49m\u001b[43m \u001b[49m\u001b[38;5;28;43;01mNone\u001b[39;49;00m\u001b[43m)\u001b[49m\u001b[43m,\u001b[49m\n\u001b[1;32m   1744\u001b[0m \u001b[43m\u001b[49m\u001b[43m)\u001b[49m\n\u001b[1;32m   1745\u001b[0m \u001b[38;5;28;01massert\u001b[39;00m \u001b[38;5;28mself\u001b[39m\u001b[38;5;241m.\u001b[39mhandles \u001b[38;5;129;01mis\u001b[39;00m \u001b[38;5;129;01mnot\u001b[39;00m \u001b[38;5;28;01mNone\u001b[39;00m\n\u001b[1;32m   1746\u001b[0m f \u001b[38;5;241m=\u001b[39m \u001b[38;5;28mself\u001b[39m\u001b[38;5;241m.\u001b[39mhandles\u001b[38;5;241m.\u001b[39mhandle\n",
      "File \u001b[0;32m~/.local/lib/python3.10/site-packages/pandas/io/common.py:856\u001b[0m, in \u001b[0;36mget_handle\u001b[0;34m(path_or_buf, mode, encoding, compression, memory_map, is_text, errors, storage_options)\u001b[0m\n\u001b[1;32m    851\u001b[0m \u001b[38;5;28;01melif\u001b[39;00m \u001b[38;5;28misinstance\u001b[39m(handle, \u001b[38;5;28mstr\u001b[39m):\n\u001b[1;32m    852\u001b[0m     \u001b[38;5;66;03m# Check whether the filename is to be opened in binary mode.\u001b[39;00m\n\u001b[1;32m    853\u001b[0m     \u001b[38;5;66;03m# Binary mode does not support 'encoding' and 'newline'.\u001b[39;00m\n\u001b[1;32m    854\u001b[0m     \u001b[38;5;28;01mif\u001b[39;00m ioargs\u001b[38;5;241m.\u001b[39mencoding \u001b[38;5;129;01mand\u001b[39;00m \u001b[38;5;124m\"\u001b[39m\u001b[38;5;124mb\u001b[39m\u001b[38;5;124m\"\u001b[39m \u001b[38;5;129;01mnot\u001b[39;00m \u001b[38;5;129;01min\u001b[39;00m ioargs\u001b[38;5;241m.\u001b[39mmode:\n\u001b[1;32m    855\u001b[0m         \u001b[38;5;66;03m# Encoding\u001b[39;00m\n\u001b[0;32m--> 856\u001b[0m         handle \u001b[38;5;241m=\u001b[39m \u001b[38;5;28;43mopen\u001b[39;49m\u001b[43m(\u001b[49m\n\u001b[1;32m    857\u001b[0m \u001b[43m            \u001b[49m\u001b[43mhandle\u001b[49m\u001b[43m,\u001b[49m\n\u001b[1;32m    858\u001b[0m \u001b[43m            \u001b[49m\u001b[43mioargs\u001b[49m\u001b[38;5;241;43m.\u001b[39;49m\u001b[43mmode\u001b[49m\u001b[43m,\u001b[49m\n\u001b[1;32m    859\u001b[0m \u001b[43m            \u001b[49m\u001b[43mencoding\u001b[49m\u001b[38;5;241;43m=\u001b[39;49m\u001b[43mioargs\u001b[49m\u001b[38;5;241;43m.\u001b[39;49m\u001b[43mencoding\u001b[49m\u001b[43m,\u001b[49m\n\u001b[1;32m    860\u001b[0m \u001b[43m            \u001b[49m\u001b[43merrors\u001b[49m\u001b[38;5;241;43m=\u001b[39;49m\u001b[43merrors\u001b[49m\u001b[43m,\u001b[49m\n\u001b[1;32m    861\u001b[0m \u001b[43m            \u001b[49m\u001b[43mnewline\u001b[49m\u001b[38;5;241;43m=\u001b[39;49m\u001b[38;5;124;43m\"\u001b[39;49m\u001b[38;5;124;43m\"\u001b[39;49m\u001b[43m,\u001b[49m\n\u001b[1;32m    862\u001b[0m \u001b[43m        \u001b[49m\u001b[43m)\u001b[49m\n\u001b[1;32m    863\u001b[0m     \u001b[38;5;28;01melse\u001b[39;00m:\n\u001b[1;32m    864\u001b[0m         \u001b[38;5;66;03m# Binary mode\u001b[39;00m\n\u001b[1;32m    865\u001b[0m         handle \u001b[38;5;241m=\u001b[39m \u001b[38;5;28mopen\u001b[39m(handle, ioargs\u001b[38;5;241m.\u001b[39mmode)\n",
      "\u001b[0;31mFileNotFoundError\u001b[0m: [Errno 2] No such file or directory: '/kaggle/input/bengaluru-house-price-data/Bengaluru_House_Data.csv'"
     ]
    }
   ],
   "source": [
    "data = pd.read_csv('/.csv')\n",
    "data"
   ]
  },
  {
   "cell_type": "code",
   "execution_count": null,
   "metadata": {
    "execution": {
     "iopub.execute_input": "2023-04-15T19:49:04.164949Z",
     "iopub.status.busy": "2023-04-15T19:49:04.163833Z",
     "iopub.status.idle": "2023-04-15T19:49:04.180561Z",
     "shell.execute_reply": "2023-04-15T19:49:04.179643Z",
     "shell.execute_reply.started": "2023-04-15T19:49:04.164899Z"
    }
   },
   "outputs": [],
   "source": [
    "data.isna().sum()"
   ]
  },
  {
   "cell_type": "markdown",
   "metadata": {},
   "source": [
    "# Cleaning the data"
   ]
  },
  {
   "cell_type": "code",
   "execution_count": null,
   "metadata": {
    "execution": {
     "iopub.execute_input": "2023-04-15T19:49:04.182683Z",
     "iopub.status.busy": "2023-04-15T19:49:04.181632Z",
     "iopub.status.idle": "2023-04-15T19:49:04.189549Z",
     "shell.execute_reply": "2023-04-15T19:49:04.188468Z",
     "shell.execute_reply.started": "2023-04-15T19:49:04.182635Z"
    }
   },
   "outputs": [],
   "source": [
    "data.shape"
   ]
  },
  {
   "cell_type": "code",
   "execution_count": null,
   "metadata": {
    "execution": {
     "iopub.execute_input": "2023-04-15T19:49:04.192168Z",
     "iopub.status.busy": "2023-04-15T19:49:04.191801Z",
     "iopub.status.idle": "2023-04-15T19:49:04.208865Z",
     "shell.execute_reply": "2023-04-15T19:49:04.207637Z",
     "shell.execute_reply.started": "2023-04-15T19:49:04.192134Z"
    }
   },
   "outputs": [],
   "source": [
    "# let's see how many area we have and the freq of each one of them\n",
    "data.groupby('area_type')['area_type'].agg('count')"
   ]
  },
  {
   "cell_type": "code",
   "execution_count": null,
   "metadata": {
    "execution": {
     "iopub.execute_input": "2023-04-15T19:49:04.229658Z",
     "iopub.status.busy": "2023-04-15T19:49:04.229255Z",
     "iopub.status.idle": "2023-04-15T19:49:04.251062Z",
     "shell.execute_reply": "2023-04-15T19:49:04.249876Z",
     "shell.execute_reply.started": "2023-04-15T19:49:04.229622Z"
    }
   },
   "outputs": [],
   "source": [
    "# dropping the columns that will not be used \n",
    "data = data.drop(['area_type','society','availability', 'balcony'],axis=1)\n",
    "data"
   ]
  },
  {
   "cell_type": "code",
   "execution_count": null,
   "metadata": {
    "execution": {
     "iopub.execute_input": "2023-04-15T19:49:04.254210Z",
     "iopub.status.busy": "2023-04-15T19:49:04.253654Z",
     "iopub.status.idle": "2023-04-15T19:49:04.268415Z",
     "shell.execute_reply": "2023-04-15T19:49:04.267087Z",
     "shell.execute_reply.started": "2023-04-15T19:49:04.254161Z"
    }
   },
   "outputs": [],
   "source": [
    "# how many nan values are there\n",
    "data.isna().sum()"
   ]
  },
  {
   "cell_type": "code",
   "execution_count": null,
   "metadata": {
    "execution": {
     "iopub.execute_input": "2023-04-15T19:49:04.270348Z",
     "iopub.status.busy": "2023-04-15T19:49:04.269914Z",
     "iopub.status.idle": "2023-04-15T19:49:04.283933Z",
     "shell.execute_reply": "2023-04-15T19:49:04.282406Z",
     "shell.execute_reply.started": "2023-04-15T19:49:04.270312Z"
    }
   },
   "outputs": [],
   "source": [
    "# droping nan values\n",
    "data.dropna(inplace=True)\n"
   ]
  },
  {
   "cell_type": "code",
   "execution_count": null,
   "metadata": {
    "execution": {
     "iopub.execute_input": "2023-04-15T19:49:04.287954Z",
     "iopub.status.busy": "2023-04-15T19:49:04.286585Z",
     "iopub.status.idle": "2023-04-15T19:49:04.300029Z",
     "shell.execute_reply": "2023-04-15T19:49:04.298603Z",
     "shell.execute_reply.started": "2023-04-15T19:49:04.287912Z"
    }
   },
   "outputs": [],
   "source": [
    "data.isna().sum()"
   ]
  },
  {
   "cell_type": "code",
   "execution_count": null,
   "metadata": {
    "execution": {
     "iopub.execute_input": "2023-04-15T19:49:04.302943Z",
     "iopub.status.busy": "2023-04-15T19:49:04.301715Z",
     "iopub.status.idle": "2023-04-15T19:49:04.311291Z",
     "shell.execute_reply": "2023-04-15T19:49:04.310017Z",
     "shell.execute_reply.started": "2023-04-15T19:49:04.302892Z"
    }
   },
   "outputs": [],
   "source": [
    "data.shape"
   ]
  },
  {
   "cell_type": "code",
   "execution_count": null,
   "metadata": {
    "execution": {
     "iopub.execute_input": "2023-04-15T19:49:04.353473Z",
     "iopub.status.busy": "2023-04-15T19:49:04.352284Z",
     "iopub.status.idle": "2023-04-15T19:49:04.362743Z",
     "shell.execute_reply": "2023-04-15T19:49:04.361492Z",
     "shell.execute_reply.started": "2023-04-15T19:49:04.353419Z"
    }
   },
   "outputs": [],
   "source": [
    "# how many unique sizes are there\n",
    "data['size'].unique()"
   ]
  },
  {
   "cell_type": "code",
   "execution_count": null,
   "metadata": {
    "execution": {
     "iopub.execute_input": "2023-04-15T19:49:04.447138Z",
     "iopub.status.busy": "2023-04-15T19:49:04.446680Z",
     "iopub.status.idle": "2023-04-15T19:49:04.464951Z",
     "shell.execute_reply": "2023-04-15T19:49:04.463882Z",
     "shell.execute_reply.started": "2023-04-15T19:49:04.447099Z"
    }
   },
   "outputs": [],
   "source": [
    "# creating new column for the\n",
    "\n",
    "data['bhk'] = data['size'].apply(lambda x : int(x.split(' ')[0]) )\n"
   ]
  },
  {
   "cell_type": "code",
   "execution_count": null,
   "metadata": {},
   "outputs": [],
   "source": []
  },
  {
   "cell_type": "code",
   "execution_count": null,
   "metadata": {
    "execution": {
     "iopub.execute_input": "2023-04-15T19:49:04.565823Z",
     "iopub.status.busy": "2023-04-15T19:49:04.565420Z",
     "iopub.status.idle": "2023-04-15T19:49:04.585197Z",
     "shell.execute_reply": "2023-04-15T19:49:04.583688Z",
     "shell.execute_reply.started": "2023-04-15T19:49:04.565788Z"
    }
   },
   "outputs": [],
   "source": [
    "data"
   ]
  },
  {
   "cell_type": "code",
   "execution_count": null,
   "metadata": {
    "execution": {
     "iopub.execute_input": "2023-04-15T19:49:04.591620Z",
     "iopub.status.busy": "2023-04-15T19:49:04.590685Z",
     "iopub.status.idle": "2023-04-15T19:49:04.606238Z",
     "shell.execute_reply": "2023-04-15T19:49:04.605228Z",
     "shell.execute_reply.started": "2023-04-15T19:49:04.591573Z"
    }
   },
   "outputs": [],
   "source": [
    "\n",
    "data[data['bhk'] > 20]"
   ]
  },
  {
   "cell_type": "code",
   "execution_count": null,
   "metadata": {
    "execution": {
     "iopub.execute_input": "2023-04-15T19:49:04.611797Z",
     "iopub.status.busy": "2023-04-15T19:49:04.611296Z",
     "iopub.status.idle": "2023-04-15T19:49:04.620527Z",
     "shell.execute_reply": "2023-04-15T19:49:04.619255Z",
     "shell.execute_reply.started": "2023-04-15T19:49:04.611760Z"
    }
   },
   "outputs": [],
   "source": [
    "data.total_sqft.unique()"
   ]
  },
  {
   "cell_type": "code",
   "execution_count": null,
   "metadata": {
    "execution": {
     "iopub.execute_input": "2023-04-15T19:49:04.627101Z",
     "iopub.status.busy": "2023-04-15T19:49:04.626646Z",
     "iopub.status.idle": "2023-04-15T19:49:04.632355Z",
     "shell.execute_reply": "2023-04-15T19:49:04.631186Z",
     "shell.execute_reply.started": "2023-04-15T19:49:04.627058Z"
    }
   },
   "outputs": [],
   "source": [
    "def is_it_float(x):\n",
    "    try:\n",
    "        float(x)\n",
    "    except:\n",
    "        return False\n",
    "    return True"
   ]
  },
  {
   "cell_type": "code",
   "execution_count": null,
   "metadata": {
    "execution": {
     "iopub.execute_input": "2023-04-15T19:49:04.686449Z",
     "iopub.status.busy": "2023-04-15T19:49:04.686056Z",
     "iopub.status.idle": "2023-04-15T19:49:04.710482Z",
     "shell.execute_reply": "2023-04-15T19:49:04.709150Z",
     "shell.execute_reply.started": "2023-04-15T19:49:04.686416Z"
    }
   },
   "outputs": [],
   "source": [
    "data[~data.total_sqft.apply(is_it_float)].head()"
   ]
  },
  {
   "cell_type": "code",
   "execution_count": null,
   "metadata": {
    "execution": {
     "iopub.execute_input": "2023-04-15T19:49:04.713628Z",
     "iopub.status.busy": "2023-04-15T19:49:04.712685Z",
     "iopub.status.idle": "2023-04-15T19:49:04.719661Z",
     "shell.execute_reply": "2023-04-15T19:49:04.718605Z",
     "shell.execute_reply.started": "2023-04-15T19:49:04.713590Z"
    }
   },
   "outputs": [],
   "source": [
    "\n",
    "def convert_sqft_to_num(x):\n",
    "    tokens = x.split('-')\n",
    "    if len(tokens) == 2:\n",
    "        return np.average([float(tokens[0]), float(tokens[1])])\n",
    "    try:\n",
    "        return float(x)\n",
    "    except:\n",
    "        return None\n"
   ]
  },
  {
   "cell_type": "code",
   "execution_count": null,
   "metadata": {
    "execution": {
     "iopub.execute_input": "2023-04-15T19:49:04.722363Z",
     "iopub.status.busy": "2023-04-15T19:49:04.721880Z",
     "iopub.status.idle": "2023-04-15T19:49:04.733652Z",
     "shell.execute_reply": "2023-04-15T19:49:04.732738Z",
     "shell.execute_reply.started": "2023-04-15T19:49:04.722317Z"
    }
   },
   "outputs": [],
   "source": [
    "# testing the function\n",
    "convert_sqft_to_num('2100 - 2850')"
   ]
  },
  {
   "cell_type": "code",
   "execution_count": null,
   "metadata": {
    "execution": {
     "iopub.execute_input": "2023-04-15T19:49:04.735064Z",
     "iopub.status.busy": "2023-04-15T19:49:04.734731Z",
     "iopub.status.idle": "2023-04-15T19:49:04.758368Z",
     "shell.execute_reply": "2023-04-15T19:49:04.757270Z",
     "shell.execute_reply.started": "2023-04-15T19:49:04.735008Z"
    }
   },
   "outputs": [],
   "source": [
    "data['total_sqft'] = data['total_sqft'].apply(convert_sqft_to_num)\n"
   ]
  },
  {
   "cell_type": "code",
   "execution_count": null,
   "metadata": {
    "execution": {
     "iopub.execute_input": "2023-04-15T19:49:04.761230Z",
     "iopub.status.busy": "2023-04-15T19:49:04.760815Z",
     "iopub.status.idle": "2023-04-15T19:49:04.776185Z",
     "shell.execute_reply": "2023-04-15T19:49:04.774795Z",
     "shell.execute_reply.started": "2023-04-15T19:49:04.761193Z"
    }
   },
   "outputs": [],
   "source": [
    "data.head()"
   ]
  },
  {
   "cell_type": "markdown",
   "metadata": {},
   "source": [
    "# Feature Engineering"
   ]
  },
  {
   "cell_type": "code",
   "execution_count": null,
   "metadata": {
    "execution": {
     "iopub.execute_input": "2023-04-15T19:49:04.803232Z",
     "iopub.status.busy": "2023-04-15T19:49:04.802759Z",
     "iopub.status.idle": "2023-04-15T19:49:04.826660Z",
     "shell.execute_reply": "2023-04-15T19:49:04.825221Z",
     "shell.execute_reply.started": "2023-04-15T19:49:04.803175Z"
    }
   },
   "outputs": [],
   "source": [
    "data['price_per_sqft'] = data['price']*100000/data['total_sqft']\n",
    "data"
   ]
  },
  {
   "cell_type": "code",
   "execution_count": null,
   "metadata": {
    "execution": {
     "iopub.execute_input": "2023-04-15T19:49:04.829465Z",
     "iopub.status.busy": "2023-04-15T19:49:04.828989Z",
     "iopub.status.idle": "2023-04-15T19:49:04.842112Z",
     "shell.execute_reply": "2023-04-15T19:49:04.840874Z",
     "shell.execute_reply.started": "2023-04-15T19:49:04.829415Z"
    }
   },
   "outputs": [],
   "source": [
    "len(data.location.unique())\n",
    "## too many locations"
   ]
  },
  {
   "cell_type": "code",
   "execution_count": null,
   "metadata": {
    "execution": {
     "iopub.execute_input": "2023-04-15T19:49:04.844290Z",
     "iopub.status.busy": "2023-04-15T19:49:04.843816Z",
     "iopub.status.idle": "2023-04-15T19:49:04.865093Z",
     "shell.execute_reply": "2023-04-15T19:49:04.863926Z",
     "shell.execute_reply.started": "2023-04-15T19:49:04.844244Z"
    }
   },
   "outputs": [],
   "source": [
    "# how many data available per location\n",
    "data.location = data.location.apply(lambda x : x.strip())\n",
    "stats_of_location = data.groupby('location')['location'].agg('count')\n",
    "stats_of_location.sort_values(ascending=False)"
   ]
  },
  {
   "cell_type": "code",
   "execution_count": null,
   "metadata": {
    "execution": {
     "iopub.execute_input": "2023-04-15T19:49:04.868506Z",
     "iopub.status.busy": "2023-04-15T19:49:04.867861Z",
     "iopub.status.idle": "2023-04-15T19:49:04.875842Z",
     "shell.execute_reply": "2023-04-15T19:49:04.874854Z",
     "shell.execute_reply.started": "2023-04-15T19:49:04.868465Z"
    }
   },
   "outputs": [],
   "source": [
    "# if we have a location has less than 10 let's call it other\n",
    "len(stats_of_location[stats_of_location<=10])"
   ]
  },
  {
   "cell_type": "code",
   "execution_count": null,
   "metadata": {
    "execution": {
     "iopub.execute_input": "2023-04-15T19:49:04.877231Z",
     "iopub.status.busy": "2023-04-15T19:49:04.876852Z",
     "iopub.status.idle": "2023-04-15T19:49:04.895664Z",
     "shell.execute_reply": "2023-04-15T19:49:04.894077Z",
     "shell.execute_reply.started": "2023-04-15T19:49:04.877198Z"
    }
   },
   "outputs": [],
   "source": [
    "# stats_location_less_than_10\n",
    "stats_of_location_less_than_10 = stats_of_location[stats_of_location<=10]\n",
    "stats_of_location_less_than_10.sort_values(ascending=False)"
   ]
  },
  {
   "cell_type": "code",
   "execution_count": null,
   "metadata": {
    "execution": {
     "iopub.execute_input": "2023-04-15T19:49:04.898028Z",
     "iopub.status.busy": "2023-04-15T19:49:04.897379Z",
     "iopub.status.idle": "2023-04-15T19:49:04.919609Z",
     "shell.execute_reply": "2023-04-15T19:49:04.918302Z",
     "shell.execute_reply.started": "2023-04-15T19:49:04.897992Z"
    }
   },
   "outputs": [],
   "source": [
    "data.location = data.location.apply(lambda x: 'other' if x in stats_of_location_less_than_10 else x)"
   ]
  },
  {
   "cell_type": "code",
   "execution_count": null,
   "metadata": {
    "execution": {
     "iopub.execute_input": "2023-04-15T19:49:04.923402Z",
     "iopub.status.busy": "2023-04-15T19:49:04.922629Z",
     "iopub.status.idle": "2023-04-15T19:49:04.935209Z",
     "shell.execute_reply": "2023-04-15T19:49:04.934004Z",
     "shell.execute_reply.started": "2023-04-15T19:49:04.923352Z"
    }
   },
   "outputs": [],
   "source": [
    "len(data.location.unique())"
   ]
  },
  {
   "cell_type": "code",
   "execution_count": null,
   "metadata": {
    "execution": {
     "iopub.execute_input": "2023-04-15T19:49:04.937708Z",
     "iopub.status.busy": "2023-04-15T19:49:04.937254Z",
     "iopub.status.idle": "2023-04-15T19:49:04.961063Z",
     "shell.execute_reply": "2023-04-15T19:49:04.959832Z",
     "shell.execute_reply.started": "2023-04-15T19:49:04.937661Z"
    }
   },
   "outputs": [],
   "source": [
    "data"
   ]
  },
  {
   "cell_type": "markdown",
   "metadata": {},
   "source": [
    "# Outlier detection and removal "
   ]
  },
  {
   "cell_type": "code",
   "execution_count": null,
   "metadata": {
    "execution": {
     "iopub.execute_input": "2023-04-15T19:49:04.964636Z",
     "iopub.status.busy": "2023-04-15T19:49:04.963822Z",
     "iopub.status.idle": "2023-04-15T19:49:04.987557Z",
     "shell.execute_reply": "2023-04-15T19:49:04.986260Z",
     "shell.execute_reply.started": "2023-04-15T19:49:04.964570Z"
    }
   },
   "outputs": [],
   "source": [
    "data[data.total_sqft/data.bhk < 300]\n"
   ]
  },
  {
   "cell_type": "code",
   "execution_count": null,
   "metadata": {
    "execution": {
     "iopub.execute_input": "2023-04-15T19:49:04.990211Z",
     "iopub.status.busy": "2023-04-15T19:49:04.989416Z",
     "iopub.status.idle": "2023-04-15T19:49:05.002555Z",
     "shell.execute_reply": "2023-04-15T19:49:05.001333Z",
     "shell.execute_reply.started": "2023-04-15T19:49:04.990163Z"
    }
   },
   "outputs": [],
   "source": [
    "data = data[~(data.total_sqft/data.bhk < 300)]\n",
    "data.shape"
   ]
  },
  {
   "cell_type": "code",
   "execution_count": null,
   "metadata": {
    "execution": {
     "iopub.execute_input": "2023-04-15T19:49:05.006706Z",
     "iopub.status.busy": "2023-04-15T19:49:05.005835Z",
     "iopub.status.idle": "2023-04-15T19:49:05.037328Z",
     "shell.execute_reply": "2023-04-15T19:49:05.036095Z",
     "shell.execute_reply.started": "2023-04-15T19:49:05.006641Z"
    }
   },
   "outputs": [],
   "source": [
    "data.describe()"
   ]
  },
  {
   "cell_type": "code",
   "execution_count": null,
   "metadata": {
    "execution": {
     "iopub.execute_input": "2023-04-15T19:49:05.039388Z",
     "iopub.status.busy": "2023-04-15T19:49:05.038985Z",
     "iopub.status.idle": "2023-04-15T19:49:05.541959Z",
     "shell.execute_reply": "2023-04-15T19:49:05.540633Z",
     "shell.execute_reply.started": "2023-04-15T19:49:05.039354Z"
    }
   },
   "outputs": [],
   "source": [
    "# removing outliers above 1 std for each location\n",
    "def remove_outliers(data):\n",
    "    data_out = pd.DataFrame()\n",
    "    for key, subdf in data.groupby('location'):\n",
    "        mean = np.mean(subdf.price_per_sqft)\n",
    "        std = np.std(subdf.price_per_sqft)\n",
    "        reduced_df = subdf[(subdf.price_per_sqft>(mean-std)) & (subdf.price_per_sqft<=(mean+std))]\n",
    "        data_out = pd.concat([data_out,reduced_df],ignore_index=True)\n",
    "    return data_out\n",
    "\n",
    "data = remove_outliers(data)\n",
    "print(data.shape)\n"
   ]
  },
  {
   "cell_type": "code",
   "execution_count": null,
   "metadata": {
    "execution": {
     "iopub.execute_input": "2023-04-15T19:49:05.543652Z",
     "iopub.status.busy": "2023-04-15T19:49:05.543306Z",
     "iopub.status.idle": "2023-04-15T19:49:05.553781Z",
     "shell.execute_reply": "2023-04-15T19:49:05.552294Z",
     "shell.execute_reply.started": "2023-04-15T19:49:05.543619Z"
    }
   },
   "outputs": [],
   "source": [
    "data = data[data.bath < data.bhk+2]\n",
    "data.shape"
   ]
  },
  {
   "cell_type": "code",
   "execution_count": null,
   "metadata": {
    "execution": {
     "iopub.execute_input": "2023-04-15T19:49:05.555797Z",
     "iopub.status.busy": "2023-04-15T19:49:05.555458Z",
     "iopub.status.idle": "2023-04-15T19:49:05.563061Z",
     "shell.execute_reply": "2023-04-15T19:49:05.561813Z",
     "shell.execute_reply.started": "2023-04-15T19:49:05.555765Z"
    }
   },
   "outputs": [],
   "source": [
    " data = data.drop(['size','price_per_sqft'],axis='columns')"
   ]
  },
  {
   "cell_type": "code",
   "execution_count": null,
   "metadata": {
    "execution": {
     "iopub.execute_input": "2023-04-15T19:49:05.566946Z",
     "iopub.status.busy": "2023-04-15T19:49:05.566606Z",
     "iopub.status.idle": "2023-04-15T19:49:05.587796Z",
     "shell.execute_reply": "2023-04-15T19:49:05.586419Z",
     "shell.execute_reply.started": "2023-04-15T19:49:05.566913Z"
    }
   },
   "outputs": [],
   "source": [
    "data"
   ]
  },
  {
   "cell_type": "markdown",
   "metadata": {},
   "source": [
    "# Modeling time"
   ]
  },
  {
   "cell_type": "code",
   "execution_count": null,
   "metadata": {
    "execution": {
     "iopub.execute_input": "2023-04-15T19:49:05.590349Z",
     "iopub.status.busy": "2023-04-15T19:49:05.589127Z",
     "iopub.status.idle": "2023-04-15T19:49:05.693913Z",
     "shell.execute_reply": "2023-04-15T19:49:05.692785Z",
     "shell.execute_reply.started": "2023-04-15T19:49:05.590295Z"
    }
   },
   "outputs": [],
   "source": [
    "dummies = pd.get_dummies(data.location)\n",
    "dummies.head()"
   ]
  },
  {
   "cell_type": "code",
   "execution_count": null,
   "metadata": {
    "execution": {
     "iopub.execute_input": "2023-04-15T19:49:05.695811Z",
     "iopub.status.busy": "2023-04-15T19:49:05.695390Z",
     "iopub.status.idle": "2023-04-15T19:49:05.828326Z",
     "shell.execute_reply": "2023-04-15T19:49:05.827126Z",
     "shell.execute_reply.started": "2023-04-15T19:49:05.695766Z"
    }
   },
   "outputs": [],
   "source": [
    "# concat the with tha data and drop other column from the dummies\n",
    "data = pd.concat([data,dummies.drop('other',axis='columns')],axis='columns')\n",
    "data\n"
   ]
  },
  {
   "cell_type": "code",
   "execution_count": null,
   "metadata": {
    "execution": {
     "iopub.execute_input": "2023-04-15T19:49:05.830852Z",
     "iopub.status.busy": "2023-04-15T19:49:05.829768Z",
     "iopub.status.idle": "2023-04-15T19:49:05.838872Z",
     "shell.execute_reply": "2023-04-15T19:49:05.837635Z",
     "shell.execute_reply.started": "2023-04-15T19:49:05.830804Z"
    }
   },
   "outputs": [],
   "source": [
    "data = data.drop('location',axis='columns')\n"
   ]
  },
  {
   "cell_type": "code",
   "execution_count": null,
   "metadata": {
    "execution": {
     "iopub.execute_input": "2023-04-15T19:49:05.840850Z",
     "iopub.status.busy": "2023-04-15T19:49:05.840405Z",
     "iopub.status.idle": "2023-04-15T19:49:05.850239Z",
     "shell.execute_reply": "2023-04-15T19:49:05.848883Z",
     "shell.execute_reply.started": "2023-04-15T19:49:05.840798Z"
    }
   },
   "outputs": [],
   "source": [
    "data.head()\n",
    "print(data.shape)"
   ]
  },
  {
   "cell_type": "code",
   "execution_count": null,
   "metadata": {
    "execution": {
     "iopub.execute_input": "2023-04-15T19:49:05.852753Z",
     "iopub.status.busy": "2023-04-15T19:49:05.852321Z",
     "iopub.status.idle": "2023-04-15T19:49:05.959701Z",
     "shell.execute_reply": "2023-04-15T19:49:05.958510Z",
     "shell.execute_reply.started": "2023-04-15T19:49:05.852696Z"
    }
   },
   "outputs": [],
   "source": [
    "X = data.drop('price',axis='columns')\n",
    "X.head()"
   ]
  },
  {
   "cell_type": "code",
   "execution_count": null,
   "metadata": {
    "execution": {
     "iopub.execute_input": "2023-04-15T19:49:05.961849Z",
     "iopub.status.busy": "2023-04-15T19:49:05.961470Z",
     "iopub.status.idle": "2023-04-15T19:49:05.970868Z",
     "shell.execute_reply": "2023-04-15T19:49:05.969536Z",
     "shell.execute_reply.started": "2023-04-15T19:49:05.961810Z"
    }
   },
   "outputs": [],
   "source": [
    "y = data.price\n",
    "y.head()"
   ]
  },
  {
   "cell_type": "code",
   "execution_count": null,
   "metadata": {
    "execution": {
     "iopub.execute_input": "2023-04-15T19:59:06.427547Z",
     "iopub.status.busy": "2023-04-15T19:59:06.427167Z",
     "iopub.status.idle": "2023-04-15T19:59:06.441710Z",
     "shell.execute_reply": "2023-04-15T19:59:06.440408Z",
     "shell.execute_reply.started": "2023-04-15T19:59:06.427514Z"
    }
   },
   "outputs": [],
   "source": [
    "X_train,X_test,y_train,y_test = train_test_split(X,y,test_size=0.2,random_state=10)"
   ]
  },
  {
   "cell_type": "code",
   "execution_count": null,
   "metadata": {
    "execution": {
     "iopub.execute_input": "2023-04-15T20:08:28.231118Z",
     "iopub.status.busy": "2023-04-15T20:08:28.230692Z",
     "iopub.status.idle": "2023-04-15T20:08:28.360966Z",
     "shell.execute_reply": "2023-04-15T20:08:28.358967Z",
     "shell.execute_reply.started": "2023-04-15T20:08:28.231079Z"
    }
   },
   "outputs": [],
   "source": [
    "\n",
    "lrg = LinearRegression()\n",
    "lrg.fit(X_train,y_train)\n",
    "y_pred = lrg.predict(X_test)"
   ]
  },
  {
   "cell_type": "code",
   "execution_count": null,
   "metadata": {
    "execution": {
     "iopub.execute_input": "2023-04-15T20:10:57.039353Z",
     "iopub.status.busy": "2023-04-15T20:10:57.038277Z",
     "iopub.status.idle": "2023-04-15T20:10:57.047625Z",
     "shell.execute_reply": "2023-04-15T20:10:57.046505Z",
     "shell.execute_reply.started": "2023-04-15T20:10:57.039313Z"
    }
   },
   "outputs": [],
   "source": [
    "# RMSE for Linear Regression\n",
    "np.sqrt(mean_squared_error(y_test,y_pred))"
   ]
  },
  {
   "cell_type": "code",
   "execution_count": null,
   "metadata": {
    "execution": {
     "iopub.execute_input": "2023-04-15T20:14:13.416452Z",
     "iopub.status.busy": "2023-04-15T20:14:13.416059Z",
     "iopub.status.idle": "2023-04-15T20:14:33.486164Z",
     "shell.execute_reply": "2023-04-15T20:14:33.485241Z",
     "shell.execute_reply.started": "2023-04-15T20:14:13.416418Z"
    }
   },
   "outputs": [],
   "source": [
    "model_xgb = XGBRegressor(n_estimators=500)\n",
    "model_xgb.fit(X_train,y_train)"
   ]
  },
  {
   "cell_type": "code",
   "execution_count": null,
   "metadata": {
    "execution": {
     "iopub.execute_input": "2023-04-15T20:18:03.436562Z",
     "iopub.status.busy": "2023-04-15T20:18:03.435828Z",
     "iopub.status.idle": "2023-04-15T20:18:03.472855Z",
     "shell.execute_reply": "2023-04-15T20:18:03.471790Z",
     "shell.execute_reply.started": "2023-04-15T20:18:03.436524Z"
    }
   },
   "outputs": [],
   "source": [
    "y_pred = model_xgb.predict(X_test)\n",
    "# RMSE\n",
    "np.sqrt(mean_squared_error(y_test,y_pred))"
   ]
  },
  {
   "cell_type": "code",
   "execution_count": null,
   "metadata": {
    "execution": {
     "iopub.execute_input": "2023-04-15T20:18:07.926645Z",
     "iopub.status.busy": "2023-04-15T20:18:07.926261Z"
    }
   },
   "outputs": [],
   "source": [
    "from sklearn.model_selection import GridSearchCV\n",
    "from xgboost import XGBRegressor\n",
    "\n",
    "# Define the XGBRegressor model\n",
    "model = XGBRegressor()\n",
    "\n",
    "# Define the hyperparameter grid to search over\n",
    "param_grid = {\n",
    "    'learning_rate': [0.01, 0.1, 0.3],\n",
    "    'max_depth': [3, 5, 7],\n",
    "    'n_estimators': [100, 200, 300]\n",
    "}\n",
    "\n",
    "# Perform the grid search with 5-fold cross-validation\n",
    "grid_search = GridSearchCV(\n",
    "    model, param_grid, cv=5, verbose=2, n_jobs=-1)\n",
    "\n",
    "# Fit the grid search to the data\n",
    "grid_search.fit(X_train, y_train)\n",
    "\n",
    "# Print the best hyperparameters\n",
    "print(\"Best parameters found:\", grid_search.best_params_)\n"
   ]
  },
  {
   "cell_type": "code",
   "execution_count": null,
   "metadata": {},
   "outputs": [],
   "source": [
    "def predict_the_price(location,sqft,bath,bhk):\n",
    "    location_index = np.where(X.columns==location)[0][0]\n",
    "    \n",
    "    x = np.zeros(len(X.columns))\n",
    "    x[0] = sqft\n",
    "    x[1] = bath\n",
    "    x[2] = bhk\n",
    "    if location_index >= 0:\n",
    "        x[location_index] = 1\n",
    "    return lr_clf.predict([x])[0]"
   ]
  },
  {
   "cell_type": "code",
   "execution_count": null,
   "metadata": {},
   "outputs": [],
   "source": []
  },
  {
   "cell_type": "code",
   "execution_count": null,
   "metadata": {},
   "outputs": [],
   "source": []
  }
 ],
 "metadata": {
  "kernelspec": {
   "display_name": "Python 3 (ipykernel)",
   "language": "python",
   "name": "python3"
  },
  "language_info": {
   "codemirror_mode": {
    "name": "ipython",
    "version": 3
   },
   "file_extension": ".py",
   "mimetype": "text/x-python",
   "name": "python",
   "nbconvert_exporter": "python",
   "pygments_lexer": "ipython3",
   "version": "3.10.6"
  }
 },
 "nbformat": 4,
 "nbformat_minor": 4
}
