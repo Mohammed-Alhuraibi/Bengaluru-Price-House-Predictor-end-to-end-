{
 "cells": [
  {
   "cell_type": "markdown",
   "metadata": {
    "_cell_guid": "b1076dfc-b9ad-4769-8c92-a6c4dae69d19",
    "_uuid": "8f2839f25d086af736a60e9eeb907d3b93b6e0e5"
   },
   "source": [
    "# Libraries and functions that I'll be use "
   ]
  },
  {
   "cell_type": "code",
   "execution_count": null,
   "metadata": {},
   "outputs": [],
   "source": [
    "! pip install sklearn"
   ]
  },
  {
   "cell_type": "code",
   "execution_count": 1,
   "metadata": {
    "execution": {
     "iopub.execute_input": "2023-04-15T11:36:41.478883Z",
     "iopub.status.busy": "2023-04-15T11:36:41.478460Z",
     "iopub.status.idle": "2023-04-15T11:36:42.154670Z",
     "shell.execute_reply": "2023-04-15T11:36:42.153373Z",
     "shell.execute_reply.started": "2023-04-15T11:36:41.478847Z"
    }
   },
   "outputs": [
    {
     "ename": "ModuleNotFoundError",
     "evalue": "No module named 'sklearn'",
     "output_type": "error",
     "traceback": [
      "\u001b[0;31m---------------------------------------------------------------------------\u001b[0m",
      "\u001b[0;31mModuleNotFoundError\u001b[0m                       Traceback (most recent call last)",
      "Cell \u001b[0;32mIn [1], line 6\u001b[0m\n\u001b[1;32m      3\u001b[0m \u001b[38;5;28;01mimport\u001b[39;00m \u001b[38;5;21;01mmatplotlib\u001b[39;00m\u001b[38;5;21;01m.\u001b[39;00m\u001b[38;5;21;01mpyplot\u001b[39;00m \u001b[38;5;28;01mas\u001b[39;00m \u001b[38;5;21;01mplt\u001b[39;00m\n\u001b[1;32m      5\u001b[0m \u001b[38;5;28;01mfrom\u001b[39;00m \u001b[38;5;21;01mscipy\u001b[39;00m\u001b[38;5;21;01m.\u001b[39;00m\u001b[38;5;21;01mstats\u001b[39;00m \u001b[38;5;28;01mimport\u001b[39;00m zscore\n\u001b[0;32m----> 6\u001b[0m \u001b[38;5;28;01mfrom\u001b[39;00m \u001b[38;5;21;01msklearn\u001b[39;00m\u001b[38;5;21;01m.\u001b[39;00m\u001b[38;5;21;01mmetrics\u001b[39;00m \u001b[38;5;28;01mimport\u001b[39;00m mean_squared_error\n\u001b[1;32m      7\u001b[0m \u001b[38;5;28;01mimport\u001b[39;00m \u001b[38;5;21;01mxgboost\u001b[39;00m \u001b[38;5;28;01mas\u001b[39;00m \u001b[38;5;21;01mxgb\u001b[39;00m\n\u001b[1;32m     10\u001b[0m plt\u001b[38;5;241m.\u001b[39mstyle\u001b[38;5;241m.\u001b[39muse(\u001b[38;5;124m'\u001b[39m\u001b[38;5;124mfivethirtyeight\u001b[39m\u001b[38;5;124m'\u001b[39m)\n",
      "\u001b[0;31mModuleNotFoundError\u001b[0m: No module named 'sklearn'"
     ]
    }
   ],
   "source": [
    "import pandas as pd \n",
    "import numpy as np\n",
    "import matplotlib.pyplot as plt\n",
    "\n",
    "from scipy.stats import zscore\n",
    "from sklearn.metrics import mean_squared_error\n",
    "import xgboost as xgb\n",
    "\n",
    "\n",
    "plt.style.use('fivethirtyeight')"
   ]
  },
  {
   "cell_type": "markdown",
   "metadata": {},
   "source": [
    "# 1. Let's take a look at the data "
   ]
  },
  {
   "cell_type": "code",
   "execution_count": null,
   "metadata": {
    "execution": {
     "iopub.execute_input": "2023-04-15T11:36:42.157446Z",
     "iopub.status.busy": "2023-04-15T11:36:42.156985Z",
     "iopub.status.idle": "2023-04-15T11:36:42.177422Z",
     "shell.execute_reply": "2023-04-15T11:36:42.175666Z",
     "shell.execute_reply.started": "2023-04-15T11:36:42.157407Z"
    }
   },
   "outputs": [],
   "source": [
    "data = pd.read_csv('./train.csv')"
   ]
  },
  {
   "cell_type": "code",
   "execution_count": null,
   "metadata": {
    "execution": {
     "iopub.execute_input": "2023-04-15T11:36:42.181304Z",
     "iopub.status.busy": "2023-04-15T11:36:42.180139Z",
     "iopub.status.idle": "2023-04-15T11:36:42.209296Z",
     "shell.execute_reply": "2023-04-15T11:36:42.207643Z",
     "shell.execute_reply.started": "2023-04-15T11:36:42.181240Z"
    }
   },
   "outputs": [],
   "source": [
    "data  = data.set_index('date')"
   ]
  },
  {
   "cell_type": "code",
   "execution_count": null,
   "metadata": {
    "execution": {
     "iopub.execute_input": "2023-04-15T11:36:42.213453Z",
     "iopub.status.busy": "2023-04-15T11:36:42.212890Z",
     "iopub.status.idle": "2023-04-15T11:36:42.229212Z",
     "shell.execute_reply": "2023-04-15T11:36:42.227901Z",
     "shell.execute_reply.started": "2023-04-15T11:36:42.213410Z"
    }
   },
   "outputs": [],
   "source": [
    "data.index = pd.to_datetime(data.index)\n",
    "data.index"
   ]
  },
  {
   "cell_type": "code",
   "execution_count": null,
   "metadata": {
    "execution": {
     "iopub.execute_input": "2023-04-15T11:36:42.230890Z",
     "iopub.status.busy": "2023-04-15T11:36:42.230519Z",
     "iopub.status.idle": "2023-04-15T11:36:42.255073Z",
     "shell.execute_reply": "2023-04-15T11:36:42.253811Z",
     "shell.execute_reply.started": "2023-04-15T11:36:42.230855Z"
    }
   },
   "outputs": [],
   "source": [
    "data.head()"
   ]
  },
  {
   "cell_type": "code",
   "execution_count": null,
   "metadata": {
    "execution": {
     "iopub.execute_input": "2023-04-15T11:36:42.257868Z",
     "iopub.status.busy": "2023-04-15T11:36:42.256670Z",
     "iopub.status.idle": "2023-04-15T11:36:42.279391Z",
     "shell.execute_reply": "2023-04-15T11:36:42.278042Z",
     "shell.execute_reply.started": "2023-04-15T11:36:42.257804Z"
    }
   },
   "outputs": [],
   "source": [
    "data.describe()"
   ]
  },
  {
   "cell_type": "code",
   "execution_count": null,
   "metadata": {
    "execution": {
     "iopub.execute_input": "2023-04-15T11:36:42.281275Z",
     "iopub.status.busy": "2023-04-15T11:36:42.280780Z",
     "iopub.status.idle": "2023-04-15T11:36:43.775475Z",
     "shell.execute_reply": "2023-04-15T11:36:43.774537Z",
     "shell.execute_reply.started": "2023-04-15T11:36:42.281224Z"
    }
   },
   "outputs": [],
   "source": [
    "data.plot(kind='hist',bins=500)"
   ]
  },
  {
   "cell_type": "code",
   "execution_count": null,
   "metadata": {
    "execution": {
     "iopub.execute_input": "2023-04-15T11:36:43.777393Z",
     "iopub.status.busy": "2023-04-15T11:36:43.776605Z",
     "iopub.status.idle": "2023-04-15T11:36:44.186557Z",
     "shell.execute_reply": "2023-04-15T11:36:44.185503Z",
     "shell.execute_reply.started": "2023-04-15T11:36:43.777337Z"
    }
   },
   "outputs": [],
   "source": [
    "data.plot(style='.',\n",
    "          figsize=(15,5),\n",
    "          title='Sleeping hours')"
   ]
  },
  {
   "cell_type": "markdown",
   "metadata": {},
   "source": [
    "# 2. Removing outliers"
   ]
  },
  {
   "cell_type": "code",
   "execution_count": null,
   "metadata": {
    "execution": {
     "iopub.execute_input": "2023-04-15T11:36:44.188482Z",
     "iopub.status.busy": "2023-04-15T11:36:44.187999Z",
     "iopub.status.idle": "2023-04-15T11:36:44.206560Z",
     "shell.execute_reply": "2023-04-15T11:36:44.205273Z",
     "shell.execute_reply.started": "2023-04-15T11:36:44.188378Z"
    }
   },
   "outputs": [],
   "source": [
    "data.describe()"
   ]
  },
  {
   "cell_type": "code",
   "execution_count": null,
   "metadata": {
    "execution": {
     "iopub.execute_input": "2023-04-15T11:36:44.211474Z",
     "iopub.status.busy": "2023-04-15T11:36:44.211087Z",
     "iopub.status.idle": "2023-04-15T11:36:44.218543Z",
     "shell.execute_reply": "2023-04-15T11:36:44.217136Z",
     "shell.execute_reply.started": "2023-04-15T11:36:44.211439Z"
    }
   },
   "outputs": [],
   "source": [
    "# def remove_outlier(data,threshold=2.5):\n",
    "#     # create a new colum representing the z-score for each entery\n",
    "#     if 'sleep_hours_zscore' not in data.columns.values[0]:\n",
    "#         data['sleep_hours_zscore'] = zscore(data['sleep_hours'])\n",
    "#         # threshold = 3, so we will remove any entry if its z-score greater than 3\n",
    "#         z_threshold = 2.5\n",
    "#         data = data[data['sleep_hours_zscore'].abs() < z_threshold]\n",
    "#         return data\n",
    "#     print('sleep_hours_zscore already exists')\n",
    "#     return data\n",
    "\n",
    "# the data from 2018 to 2019 maybe have been doupled the value let's divide them by 2\n",
    "data[\"sleep_hours\"].iloc[833:1090] /= 2 "
   ]
  },
  {
   "cell_type": "code",
   "execution_count": null,
   "metadata": {
    "execution": {
     "iopub.execute_input": "2023-04-15T11:36:44.220782Z",
     "iopub.status.busy": "2023-04-15T11:36:44.220381Z",
     "iopub.status.idle": "2023-04-15T11:36:44.596340Z",
     "shell.execute_reply": "2023-04-15T11:36:44.595321Z",
     "shell.execute_reply.started": "2023-04-15T11:36:44.220745Z"
    }
   },
   "outputs": [],
   "source": [
    "data.plot(style='.',\n",
    "          figsize=(15,5),\n",
    "          title='Sleeping hours')"
   ]
  },
  {
   "cell_type": "code",
   "execution_count": null,
   "metadata": {
    "execution": {
     "iopub.execute_input": "2023-04-15T11:36:44.598574Z",
     "iopub.status.busy": "2023-04-15T11:36:44.597639Z",
     "iopub.status.idle": "2023-04-15T11:36:44.609984Z",
     "shell.execute_reply": "2023-04-15T11:36:44.608432Z",
     "shell.execute_reply.started": "2023-04-15T11:36:44.598531Z"
    }
   },
   "outputs": [],
   "source": [
    "data.head()"
   ]
  },
  {
   "cell_type": "code",
   "execution_count": null,
   "metadata": {
    "execution": {
     "iopub.execute_input": "2023-04-15T11:36:44.612067Z",
     "iopub.status.busy": "2023-04-15T11:36:44.611668Z",
     "iopub.status.idle": "2023-04-15T11:36:44.630695Z",
     "shell.execute_reply": "2023-04-15T11:36:44.629395Z",
     "shell.execute_reply.started": "2023-04-15T11:36:44.612013Z"
    }
   },
   "outputs": [],
   "source": [
    "data.describe()"
   ]
  },
  {
   "cell_type": "code",
   "execution_count": null,
   "metadata": {
    "execution": {
     "iopub.execute_input": "2023-04-15T11:36:44.634251Z",
     "iopub.status.busy": "2023-04-15T11:36:44.633389Z",
     "iopub.status.idle": "2023-04-15T11:36:44.992226Z",
     "shell.execute_reply": "2023-04-15T11:36:44.990833Z",
     "shell.execute_reply.started": "2023-04-15T11:36:44.634194Z"
    }
   },
   "outputs": [],
   "source": [
    "data['sleep_hours'].plot(style='.',\n",
    "          figsize=(15,5),\n",
    "          title='Sleeping hours')"
   ]
  },
  {
   "cell_type": "code",
   "execution_count": null,
   "metadata": {
    "execution": {
     "iopub.execute_input": "2023-04-15T11:36:44.994817Z",
     "iopub.status.busy": "2023-04-15T11:36:44.994270Z",
     "iopub.status.idle": "2023-04-15T11:36:45.429044Z",
     "shell.execute_reply": "2023-04-15T11:36:45.427594Z",
     "shell.execute_reply.started": "2023-04-15T11:36:44.994762Z"
    }
   },
   "outputs": [],
   "source": [
    "# how one month looks like\n",
    "data.loc[((data.index > '2015-02-20') & (data.index < '2015-03-20'))]['sleep_hours'].plot(title=\"One month\",figsize=(15,5))"
   ]
  },
  {
   "cell_type": "code",
   "execution_count": null,
   "metadata": {
    "execution": {
     "iopub.execute_input": "2023-04-15T11:36:45.431445Z",
     "iopub.status.busy": "2023-04-15T11:36:45.430881Z",
     "iopub.status.idle": "2023-04-15T11:36:45.446325Z",
     "shell.execute_reply": "2023-04-15T11:36:45.445088Z",
     "shell.execute_reply.started": "2023-04-15T11:36:45.431389Z"
    }
   },
   "outputs": [],
   "source": [
    "data"
   ]
  },
  {
   "cell_type": "markdown",
   "metadata": {},
   "source": [
    "# 3. Create features"
   ]
  },
  {
   "cell_type": "code",
   "execution_count": null,
   "metadata": {
    "execution": {
     "iopub.execute_input": "2023-04-15T11:36:45.448603Z",
     "iopub.status.busy": "2023-04-15T11:36:45.448224Z",
     "iopub.status.idle": "2023-04-15T11:36:45.468522Z",
     "shell.execute_reply": "2023-04-15T11:36:45.467359Z",
     "shell.execute_reply.started": "2023-04-15T11:36:45.448568Z"
    }
   },
   "outputs": [],
   "source": [
    "def create_features(data):\n",
    "    '''\n",
    "        Create features \n",
    "    '''\n",
    "    data =  data.copy()\n",
    "    data['week_days'] = data.index.dayofweek\n",
    "    data['quarter'] = data.index.quarter\n",
    "    data['month'] = data.index.month\n",
    "    data['year_days'] = data.index.dayofyear\n",
    "    data['dayofmonth'] = data.index.day\n",
    "    data['weekofyear'] = data.index.isocalendar().week\n",
    "    return data\n",
    "data = create_features(data)"
   ]
  },
  {
   "cell_type": "code",
   "execution_count": null,
   "metadata": {
    "execution": {
     "iopub.execute_input": "2023-04-15T11:36:45.470453Z",
     "iopub.status.busy": "2023-04-15T11:36:45.469955Z",
     "iopub.status.idle": "2023-04-15T11:36:45.486137Z",
     "shell.execute_reply": "2023-04-15T11:36:45.484992Z",
     "shell.execute_reply.started": "2023-04-15T11:36:45.470412Z"
    }
   },
   "outputs": [],
   "source": [
    "data.head()"
   ]
  },
  {
   "cell_type": "code",
   "execution_count": null,
   "metadata": {
    "execution": {
     "iopub.execute_input": "2023-04-15T11:36:45.487730Z",
     "iopub.status.busy": "2023-04-15T11:36:45.487315Z",
     "iopub.status.idle": "2023-04-15T11:36:45.497417Z",
     "shell.execute_reply": "2023-04-15T11:36:45.496093Z",
     "shell.execute_reply.started": "2023-04-15T11:36:45.487690Z"
    }
   },
   "outputs": [],
   "source": [
    "data['weekofyear'] = data['weekofyear'].astype(int)"
   ]
  },
  {
   "cell_type": "code",
   "execution_count": null,
   "metadata": {
    "execution": {
     "iopub.execute_input": "2023-04-15T11:36:45.500193Z",
     "iopub.status.busy": "2023-04-15T11:36:45.499100Z",
     "iopub.status.idle": "2023-04-15T11:36:45.528535Z",
     "shell.execute_reply": "2023-04-15T11:36:45.527483Z",
     "shell.execute_reply.started": "2023-04-15T11:36:45.500145Z"
    }
   },
   "outputs": [],
   "source": [
    "data.info()"
   ]
  },
  {
   "cell_type": "markdown",
   "metadata": {},
   "source": [
    "# 4. Cross validation"
   ]
  },
  {
   "cell_type": "code",
   "execution_count": null,
   "metadata": {
    "execution": {
     "iopub.execute_input": "2023-04-15T11:36:45.530530Z",
     "iopub.status.busy": "2023-04-15T11:36:45.530139Z",
     "iopub.status.idle": "2023-04-15T11:36:45.543859Z",
     "shell.execute_reply": "2023-04-15T11:36:45.542761Z",
     "shell.execute_reply.started": "2023-04-15T11:36:45.530491Z"
    }
   },
   "outputs": [],
   "source": [
    "from sklearn.model_selection import TimeSeriesSplit\n",
    "\n",
    "tss = TimeSeriesSplit(n_splits=4,test_size=250)\n",
    "data = data.sort_index()"
   ]
  },
  {
   "cell_type": "code",
   "execution_count": null,
   "metadata": {
    "execution": {
     "iopub.execute_input": "2023-04-15T11:36:45.546900Z",
     "iopub.status.busy": "2023-04-15T11:36:45.545895Z",
     "iopub.status.idle": "2023-04-15T11:36:47.243305Z",
     "shell.execute_reply": "2023-04-15T11:36:47.240672Z",
     "shell.execute_reply.started": "2023-04-15T11:36:45.546830Z"
    }
   },
   "outputs": [],
   "source": [
    "fig, axs = plt.subplots(5, 1, figsize=(15, 15), sharex=True)\n",
    "\n",
    "fold = 0\n",
    "for train_idx, val_idx in tss.split(data):\n",
    "    train = data.iloc[train_idx]\n",
    "    test = data.iloc[val_idx]\n",
    "    train['sleep_hours'].plot(ax=axs[fold],\n",
    "                          label='Training Set',\n",
    "                          title=f'Data Train/Test Split Fold {fold}')\n",
    "    test['sleep_hours'].plot(ax=axs[fold],\n",
    "                         label='Test Set')\n",
    "    axs[fold].axvline(test.index.min(), color='black', ls='--')\n",
    "    fold += 1\n",
    "plt.show()"
   ]
  },
  {
   "cell_type": "markdown",
   "metadata": {},
   "source": [
    "# 5. Lag Features\n"
   ]
  },
  {
   "cell_type": "code",
   "execution_count": null,
   "metadata": {
    "execution": {
     "iopub.execute_input": "2023-04-15T11:36:47.245472Z",
     "iopub.status.busy": "2023-04-15T11:36:47.245081Z",
     "iopub.status.idle": "2023-04-15T11:36:47.257279Z",
     "shell.execute_reply": "2023-04-15T11:36:47.254617Z",
     "shell.execute_reply.started": "2023-04-15T11:36:47.245439Z"
    }
   },
   "outputs": [],
   "source": [
    "def adding_lags(data):\n",
    "    map_target = data['sleep_hours'].to_dict()\n",
    "    \n",
    "    data['lag_1'] = (data.index - pd.Timedelta('182 days')).map(map_target)\n",
    "    data['lag_2'] = (data.index - pd.Timedelta('91 days')).map(map_target)\n",
    "    data['lag_3'] = (data.index - pd.Timedelta('45 days')).map(map_target)\n",
    "    data['lag_4'] = (data.index - pd.Timedelta('13 days')).map(map_target)\n",
    "    data['lag_5'] = (data.index - pd.Timedelta('7 days')).map(map_target)\n",
    "    data['lag_6'] = (data.index - pd.Timedelta('1 days')).map(map_target)\n",
    "\n",
    "    return data\n",
    "\n",
    "    "
   ]
  },
  {
   "cell_type": "code",
   "execution_count": null,
   "metadata": {
    "execution": {
     "iopub.execute_input": "2023-04-15T11:36:47.259268Z",
     "iopub.status.busy": "2023-04-15T11:36:47.258785Z",
     "iopub.status.idle": "2023-04-15T11:36:47.383170Z",
     "shell.execute_reply": "2023-04-15T11:36:47.381843Z",
     "shell.execute_reply.started": "2023-04-15T11:36:47.259226Z"
    }
   },
   "outputs": [],
   "source": [
    "data = adding_lags(data)"
   ]
  },
  {
   "cell_type": "code",
   "execution_count": null,
   "metadata": {
    "execution": {
     "iopub.execute_input": "2023-04-15T11:36:47.385106Z",
     "iopub.status.busy": "2023-04-15T11:36:47.384683Z",
     "iopub.status.idle": "2023-04-15T11:36:47.394319Z",
     "shell.execute_reply": "2023-04-15T11:36:47.392656Z",
     "shell.execute_reply.started": "2023-04-15T11:36:47.385067Z"
    }
   },
   "outputs": [],
   "source": [
    "data.columns\n"
   ]
  },
  {
   "cell_type": "code",
   "execution_count": null,
   "metadata": {
    "execution": {
     "iopub.execute_input": "2023-04-15T11:36:47.397126Z",
     "iopub.status.busy": "2023-04-15T11:36:47.396719Z",
     "iopub.status.idle": "2023-04-15T11:36:47.416344Z",
     "shell.execute_reply": "2023-04-15T11:36:47.414734Z",
     "shell.execute_reply.started": "2023-04-15T11:36:47.397090Z"
    }
   },
   "outputs": [],
   "source": [
    "data.info()"
   ]
  },
  {
   "cell_type": "markdown",
   "metadata": {},
   "source": [
    "# Time to train using cross validation"
   ]
  },
  {
   "cell_type": "code",
   "execution_count": null,
   "metadata": {
    "execution": {
     "iopub.execute_input": "2023-04-15T11:36:47.419737Z",
     "iopub.status.busy": "2023-04-15T11:36:47.417888Z",
     "iopub.status.idle": "2023-04-15T11:39:28.062469Z",
     "shell.execute_reply": "2023-04-15T11:39:28.061320Z",
     "shell.execute_reply.started": "2023-04-15T11:36:47.419676Z"
    }
   },
   "outputs": [],
   "source": [
    "tss = TimeSeriesSplit(n_splits=5)\n",
    "data = data.sort_index()\n",
    "\n",
    "fold = 0\n",
    "predicts = []\n",
    "scores = []\n",
    "\n",
    "for train_index,test_index in tss.split(data):\n",
    "    train = data.iloc[train_index]\n",
    "    test = data.iloc[test_index]\n",
    "    \n",
    "    train = create_features(train)\n",
    "    test = create_features(test)\n",
    "    \n",
    "    features = ['week_days', 'quarter', 'month', 'year_days',\n",
    "       'dayofmonth', 'lag_1', 'lag_2', 'lag_3', 'lag_4']\n",
    "    target = 'sleep_hours'\n",
    "    \n",
    "    X_train = train[features]\n",
    "    y_train = train[target]\n",
    "    \n",
    "    X_test = test[features]\n",
    "    y_test = test[target]\n",
    "    \n",
    "    reg_model = xgb.XGBRegressor(base_score=0.5,\n",
    "                                booster='gbtree',\n",
    "                                n_estimators=7000,\n",
    "                                early_stopping_rounds=50,\n",
    "                                learning_rate=0.001,\n",
    "                                objective='reg:squarederror',\n",
    "                                max_depth=4\n",
    "                                )\n",
    "    reg_model.fit(X_train,y_train,\n",
    "                 eval_set = [(X_train,y_train),(X_test,y_test)],verbose=1000)\n",
    "    y_predict = reg_model.predict(X_test)\n",
    "    score = np.sqrt(mean_squared_error(y_test,y_predict))\n",
    "    scores.append(score)"
   ]
  },
  {
   "cell_type": "code",
   "execution_count": null,
   "metadata": {
    "execution": {
     "iopub.execute_input": "2023-04-15T11:39:28.070601Z",
     "iopub.status.busy": "2023-04-15T11:39:28.070054Z",
     "iopub.status.idle": "2023-04-15T11:39:28.078047Z",
     "shell.execute_reply": "2023-04-15T11:39:28.076336Z",
     "shell.execute_reply.started": "2023-04-15T11:39:28.070555Z"
    }
   },
   "outputs": [],
   "source": [
    "print(f'Score across folds {np.mean(scores):0.4f}')\n",
    "print(f'Fold scores:{scores}')"
   ]
  },
  {
   "cell_type": "markdown",
   "metadata": {},
   "source": [
    "# Time to retrain on all data"
   ]
  },
  {
   "cell_type": "code",
   "execution_count": null,
   "metadata": {
    "execution": {
     "iopub.execute_input": "2023-04-15T11:44:13.115664Z",
     "iopub.status.busy": "2023-04-15T11:44:13.115220Z"
    }
   },
   "outputs": [],
   "source": [
    "# finding the best parameter for the model\n",
    "from sklearn.model_selection import GridSearchCV\n",
    "from xgboost import XGBRegressor\n",
    "\n",
    "# Define the parameter grid\n",
    "param_grid = {\n",
    "    'learning_rate': [0.1, 0.01, 0.001],\n",
    "    'max_depth': [3, 5, 7],\n",
    "    'n_estimators': [50, 100, 200],\n",
    "    'subsample': [0.5, 0.75, 1],\n",
    "    'colsample_bytree': [0.5, 0.75, 1],\n",
    "    'gamma': [0, 0.1, 0.2],\n",
    "}\n",
    "\n",
    "# Create the XGBRegressor model\n",
    "xgb_model = XGBRegressor(objective='reg:squarederror')\n",
    "\n",
    "# Define the GridSearchCV\n",
    "grid_search = GridSearchCV(estimator=xgb_model, param_grid=param_grid, cv=5)\n",
    "\n",
    "# Fit the GridSearchCV\n",
    "grid_search.fit(X_train, y_train)\n",
    "\n",
    "# Print the best hyperparameters\n",
    "print(grid_search.best_params_)"
   ]
  },
  {
   "cell_type": "code",
   "execution_count": null,
   "metadata": {
    "execution": {
     "iopub.status.busy": "2023-04-15T11:39:28.198640Z",
     "iopub.status.idle": "2023-04-15T11:39:28.199474Z",
     "shell.execute_reply": "2023-04-15T11:39:28.199111Z",
     "shell.execute_reply.started": "2023-04-15T11:39:28.199069Z"
    }
   },
   "outputs": [],
   "source": [
    "from sklearn.model_selection import GridSearchCV\n",
    "from xgboost import XGBRegressor\n",
    "\n",
    "features = ['week_days', 'quarter', 'month', 'year_days',\n",
    "       'dayofmonth', 'lag_1', 'lag_2', 'lag_3', 'lag_4']\n",
    "target = 'sleep_hours'\n",
    "\n",
    "all_X = data[features]\n",
    "all_y = data[target]\n",
    "\n",
    "reg_model = xgb.XGBRegressor(base_score=0.5,\n",
    "                                booster='gbtree',\n",
    "                                n_estimators=8000,\n",
    "                                early_stopping_rounds=50,\n",
    "                                learning_rate=0.001,\n",
    "                                objective='reg:squarederror',\n",
    "                                max_depth=4)\n",
    "reg_model.fit(all_X,all_y,\n",
    "             eval_set=[(all_X,all_y)],\n",
    "            verbose=1000)\n",
    "\n",
    "from sklearn.model_selection import GridSearchCV\n",
    "from xgboost import XGBRegressor\n",
    "\n",
    "\n",
    "\n"
   ]
  },
  {
   "cell_type": "markdown",
   "metadata": {},
   "source": [
    "# Predicting the test data"
   ]
  },
  {
   "cell_type": "code",
   "execution_count": null,
   "metadata": {
    "execution": {
     "iopub.status.busy": "2023-04-15T11:39:28.201950Z",
     "iopub.status.idle": "2023-04-15T11:39:28.202674Z",
     "shell.execute_reply": "2023-04-15T11:39:28.202359Z",
     "shell.execute_reply.started": "2023-04-15T11:39:28.202323Z"
    }
   },
   "outputs": [],
   "source": [
    "data_test = pd.read_csv('./test.csv',skiprows=0)\n",
    "data_test.set_index('date',inplace=True)\n",
    "data_test.index = pd.to_datetime(data_test.index)\n",
    "data_test = data_test.drop(columns='sleep_hours')"
   ]
  },
  {
   "cell_type": "code",
   "execution_count": null,
   "metadata": {
    "execution": {
     "iopub.status.busy": "2023-04-15T11:39:28.205277Z",
     "iopub.status.idle": "2023-04-15T11:39:28.205977Z",
     "shell.execute_reply": "2023-04-15T11:39:28.205651Z",
     "shell.execute_reply.started": "2023-04-15T11:39:28.205614Z"
    }
   },
   "outputs": [],
   "source": [
    "\n",
    "data_test.head()"
   ]
  },
  {
   "cell_type": "code",
   "execution_count": null,
   "metadata": {
    "execution": {
     "iopub.status.busy": "2023-04-15T11:39:28.207823Z",
     "iopub.status.idle": "2023-04-15T11:39:28.208535Z",
     "shell.execute_reply": "2023-04-15T11:39:28.208229Z",
     "shell.execute_reply.started": "2023-04-15T11:39:28.208193Z"
    }
   },
   "outputs": [],
   "source": [
    "data_test['isFuture'] = True\n",
    "data['isFuture'] = False\n",
    "data_and_test_data = pd.concat([data,data_test])\n",
    "data_and_test_data = create_features(data_and_test_data)\n",
    "data_and_test_data = adding_lags(data_and_test_data)\n",
    "data_and_test_data"
   ]
  },
  {
   "cell_type": "code",
   "execution_count": null,
   "metadata": {
    "execution": {
     "iopub.status.busy": "2023-04-15T11:39:28.211254Z",
     "iopub.status.idle": "2023-04-15T11:39:28.211946Z",
     "shell.execute_reply": "2023-04-15T11:39:28.211617Z",
     "shell.execute_reply.started": "2023-04-15T11:39:28.211579Z"
    }
   },
   "outputs": [],
   "source": [
    "future_data = data_and_test_data.query('isFuture').copy()\n",
    "future_data"
   ]
  },
  {
   "cell_type": "markdown",
   "metadata": {},
   "source": [
    "# Now let's predict the test data"
   ]
  },
  {
   "cell_type": "code",
   "execution_count": null,
   "metadata": {
    "execution": {
     "iopub.status.busy": "2023-04-15T11:39:28.213579Z",
     "iopub.status.idle": "2023-04-15T11:39:28.214295Z",
     "shell.execute_reply": "2023-04-15T11:39:28.213948Z",
     "shell.execute_reply.started": "2023-04-15T11:39:28.213911Z"
    }
   },
   "outputs": [],
   "source": [
    "future_data['sleep_hours'] = reg_model.predict(future_data[features])\n",
    "future_data"
   ]
  },
  {
   "cell_type": "code",
   "execution_count": null,
   "metadata": {
    "execution": {
     "iopub.status.busy": "2023-04-15T11:39:28.217178Z",
     "iopub.status.idle": "2023-04-15T11:39:28.217778Z",
     "shell.execute_reply": "2023-04-15T11:39:28.217507Z",
     "shell.execute_reply.started": "2023-04-15T11:39:28.217479Z"
    }
   },
   "outputs": [],
   "source": [
    "result = pd.DataFrame(index=future_data.index,data=future_data['sleep_hours'],columns=['sleep_hours'])\n",
    "result"
   ]
  },
  {
   "cell_type": "code",
   "execution_count": null,
   "metadata": {
    "execution": {
     "iopub.status.busy": "2023-04-15T11:39:28.219081Z",
     "iopub.status.idle": "2023-04-15T11:39:28.219749Z",
     "shell.execute_reply": "2023-04-15T11:39:28.219473Z",
     "shell.execute_reply.started": "2023-04-15T11:39:28.219438Z"
    }
   },
   "outputs": [],
   "source": [
    "result.to_csv('submission.csv')"
   ]
  },
  {
   "cell_type": "code",
   "execution_count": null,
   "metadata": {
    "execution": {
     "iopub.status.busy": "2023-04-15T11:39:28.220896Z",
     "iopub.status.idle": "2023-04-15T11:39:28.221531Z",
     "shell.execute_reply": "2023-04-15T11:39:28.221248Z",
     "shell.execute_reply.started": "2023-04-15T11:39:28.221213Z"
    }
   },
   "outputs": [],
   "source": [
    "res = pd.read_csv('/kaggle/working/predictions.csv')\n",
    "res"
   ]
  },
  {
   "cell_type": "code",
   "execution_count": null,
   "metadata": {},
   "outputs": [],
   "source": []
  }
 ],
 "metadata": {
  "kernelspec": {
   "display_name": "Python 3 (ipykernel)",
   "language": "python",
   "name": "python3"
  },
  "language_info": {
   "codemirror_mode": {
    "name": "ipython",
    "version": 3
   },
   "file_extension": ".py",
   "mimetype": "text/x-python",
   "name": "python",
   "nbconvert_exporter": "python",
   "pygments_lexer": "ipython3",
   "version": "3.10.6"
  }
 },
 "nbformat": 4,
 "nbformat_minor": 4
}
